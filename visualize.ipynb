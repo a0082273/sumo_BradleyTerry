{
 "cells": [
  {
   "cell_type": "code",
   "execution_count": null,
   "metadata": {},
   "outputs": [],
   "source": [
    "basho1 = pd.read_csv('output/201801_rikishi_status.csv', index_col=0)\n",
    "basho2 = pd.read_csv('output/201803_rikishi_status.csv', index_col=0)\n",
    "basho3 = pd.read_csv('output/201805_rikishi_status.csv', index_col=0)\n",
    "basho4 = pd.read_csv('output/201807_rikishi_status.csv', index_col=0)"
   ]
  },
  {
   "cell_type": "code",
   "execution_count": null,
   "metadata": {},
   "outputs": [],
   "source": [
    "basho = pd.Panel(data={'basho1': basho1, 'basho2': basho2, 'basho3': basho3, 'basho4': basho4})"
   ]
  },
  {
   "cell_type": "code",
   "execution_count": null,
   "metadata": {},
   "outputs": [],
   "source": [
    "sanyaku = ['鶴竜', '白鵬', '豪栄道', '高安', '栃ノ心', '逸ノ城', '御嶽海', '玉鷲', '松鳳山']\n",
    "maegashira_joi = ['正代', '琴奨菊', '勢', '千代の国', '阿炎', '貴景勝', '魁聖', '輝', '大翔丸', '嘉風', '遠藤', '千代大龍', '宝富士', '大栄翔', '千代翔馬', '旭大星', '妙義龍', '豊山']\n",
    "maegashira_kai = ['千代丸', '錦木', '碧山', '阿武咲', '佐田の海', '荒鷲', '栃煌山', '朝乃山', '琴恵光', '隠岐の海', '石浦', '竜電', '北勝富士', '明生']"
   ]
  },
  {
   "cell_type": "markdown",
   "metadata": {},
   "source": [
    "# bt_modelのabilityの順位"
   ]
  },
  {
   "cell_type": "code",
   "execution_count": null,
   "metadata": {},
   "outputs": [],
   "source": [
    "rank = basho.iloc[0]['rank']\n",
    "for i in range(1, basho.shape[0]):\n",
    "    rank = pd.concat([rank, basho.iloc[i]['rank']], axis=1)"
   ]
  },
  {
   "cell_type": "code",
   "execution_count": null,
   "metadata": {},
   "outputs": [],
   "source": [
    "rank.T[sanyaku].plot(kind='box', figsize=(16, 6), title='2018年 横綱＆三役')\n",
    "plt.savefig('output/2018sanyaku_rank_box.png')"
   ]
  },
  {
   "cell_type": "code",
   "execution_count": null,
   "metadata": {},
   "outputs": [],
   "source": [
    "rank.T[sanyaku].plot(kind='line', style=['o-']*len(sanyaku), figsize=(16, 6), title='2018年 横綱＆三役')\n",
    "plt.savefig('output/2018sanyaku_rank_line.png')"
   ]
  },
  {
   "cell_type": "code",
   "execution_count": null,
   "metadata": {},
   "outputs": [],
   "source": [
    "rank.loc[sanyaku].plot(kind='bar', figsize=(16, 6), title='2018年 横綱＆三役')\n",
    "plt.savefig('output/2018sanyaku_rank_bar.png')"
   ]
  },
  {
   "cell_type": "code",
   "execution_count": null,
   "metadata": {},
   "outputs": [],
   "source": [
    "rank.T[maegashira_joi].plot(kind='box', figsize=(16, 6), title='2018年 前頭上位')\n",
    "plt.savefig('output/2018maegashirajoi_rank_box.png')"
   ]
  },
  {
   "cell_type": "code",
   "execution_count": null,
   "metadata": {},
   "outputs": [],
   "source": [
    "rank.T[maegashira_joi].plot(kind='line', style=['o-']*len(maegashira_joi), figsize=(16, 6), title='2018年 前頭上位')\n",
    "plt.savefig('output/2018maegashirajoi_rank_line.png')"
   ]
  },
  {
   "cell_type": "code",
   "execution_count": null,
   "metadata": {},
   "outputs": [],
   "source": [
    "rank.loc[maegashira_joi].plot(kind='bar', figsize=(16, 6), title='2018年 前頭上位')\n",
    "plt.savefig('output/2018maegashirajoi_rank_bar.png')"
   ]
  },
  {
   "cell_type": "markdown",
   "metadata": {},
   "source": [
    "# bt_modelのability"
   ]
  },
  {
   "cell_type": "code",
   "execution_count": null,
   "metadata": {},
   "outputs": [],
   "source": [
    "ability = basho.iloc[0]['bt_ability']\n",
    "for i in range(1, basho.shape[0]):\n",
    "    ability = pd.concat([ability, basho.iloc[i]['bt_ability']], axis=1)"
   ]
  },
  {
   "cell_type": "code",
   "execution_count": null,
   "metadata": {},
   "outputs": [],
   "source": [
    "ability.T[sanyaku].plot(kind='box', figsize=(16, 6), title='2018年 横綱＆三役')\n",
    "plt.savefig('output/2018sanyaku_ability_box.png')"
   ]
  },
  {
   "cell_type": "code",
   "execution_count": null,
   "metadata": {},
   "outputs": [],
   "source": [
    "ability.T[sanyaku].plot(kind='line', style=['o-']*len(sanyaku), figsize=(16, 6), title='2018年 横綱＆三役')\n",
    "plt.savefig('output/2018sanyaku_ability_line.png')"
   ]
  },
  {
   "cell_type": "code",
   "execution_count": null,
   "metadata": {},
   "outputs": [],
   "source": [
    "ability.loc[sanyaku].plot(kind='bar', figsize=(16, 6), title='2018年 横綱＆三役')\n",
    "plt.savefig('output/2018sanyaku_ability_bar.png')"
   ]
  },
  {
   "cell_type": "code",
   "execution_count": null,
   "metadata": {},
   "outputs": [],
   "source": [
    "ability.T[maegashira_joi].plot(kind='box', figsize=(16, 6), title='2018年 前頭上位')\n",
    "plt.savefig('output/2018maegashirajoi_ability_box.png')"
   ]
  },
  {
   "cell_type": "code",
   "execution_count": null,
   "metadata": {},
   "outputs": [],
   "source": [
    "ability.T[maegashira_joi].plot(kind='line', style=['o-']*len(maegashira_joi), figsize=(16, 6), title='2018年 前頭上位')\n",
    "plt.savefig('output/2018maegashirajoi_ability_line.png')"
   ]
  },
  {
   "cell_type": "code",
   "execution_count": null,
   "metadata": {},
   "outputs": [],
   "source": [
    "ability.loc[maegashira_joi].plot(kind='bar', figsize=(16, 6), title='2018年 前頭上位')\n",
    "plt.savefig('output/2018maegashirajoi_ability_bar.png')"
   ]
  },
  {
   "cell_type": "code",
   "execution_count": null,
   "metadata": {},
   "outputs": [],
   "source": []
  }
 ],
 "metadata": {
  "kernelspec": {
   "display_name": "Python 3",
   "language": "python",
   "name": "python3"
  },
  "language_info": {
   "codemirror_mode": {
    "name": "ipython",
    "version": 3
   },
   "file_extension": ".py",
   "mimetype": "text/x-python",
   "name": "python",
   "nbconvert_exporter": "python",
   "pygments_lexer": "ipython3",
   "version": "3.6.4"
  }
 },
 "nbformat": 4,
 "nbformat_minor": 2
}
