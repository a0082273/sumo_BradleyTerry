{
 "cells": [
  {
   "cell_type": "code",
   "execution_count": null,
   "metadata": {},
   "outputs": [],
   "source": [
    "year = '2001'\n",
    "basho1 = pd.read_csv(f'output/{year}01_rikishi_status.csv', index_col=0)\n",
    "basho2 = pd.read_csv(f'output/{year}03_rikishi_status.csv', index_col=0)\n",
    "basho3 = pd.read_csv(f'output/{year}05_rikishi_status.csv', index_col=0)\n",
    "basho4 = pd.read_csv(f'output/{year}07_rikishi_status.csv', index_col=0)\n",
    "basho5 = pd.read_csv(f'output/{year}09_rikishi_status.csv', index_col=0)\n",
    "basho6 = pd.read_csv(f'output/{year}11_rikishi_status.csv', index_col=0)"
   ]
  },
  {
   "cell_type": "code",
   "execution_count": null,
   "metadata": {},
   "outputs": [],
   "source": [
    "basho1"
   ]
  },
  {
   "cell_type": "code",
   "execution_count": null,
   "metadata": {},
   "outputs": [],
   "source": [
    "basho = pd.Panel(data={'basho1': basho1, 'basho2': basho2, 'basho3': basho3, 'basho4': basho4, 'basho5': basho5, 'basho6': basho6})"
   ]
  },
  {
   "cell_type": "markdown",
   "metadata": {},
   "source": [
    "# 勝ち星の数"
   ]
  },
  {
   "cell_type": "code",
   "execution_count": null,
   "metadata": {},
   "outputs": [],
   "source": [
    "wins = basho.iloc[0]['n_win']\n",
    "for i in range(1, basho.shape[0]):\n",
    "    wins = pd.concat([wins, basho.iloc[i]['n_win']], axis=1)"
   ]
  },
  {
   "cell_type": "code",
   "execution_count": null,
   "metadata": {},
   "outputs": [],
   "source": [
    "wins.T.plot(kind='box', figsize=(50, 10), title=f'{year}年')\n",
    "plt.savefig(f'output/{year}_wins_box.png')"
   ]
  },
  {
   "cell_type": "code",
   "execution_count": null,
   "metadata": {},
   "outputs": [],
   "source": [
    "wins.T.plot(kind='line', style=['o-']*len(wins), figsize=(50, 18), title=f'{year}年')\n",
    "plt.savefig(f'output/{year}_wins_line.png')"
   ]
  },
  {
   "cell_type": "markdown",
   "metadata": {},
   "source": [
    "# bt_modelのabilityの順位"
   ]
  },
  {
   "cell_type": "code",
   "execution_count": null,
   "metadata": {},
   "outputs": [],
   "source": [
    "rank = basho.iloc[0]['rank']\n",
    "for i in range(1, basho.shape[0]):\n",
    "    rank = pd.concat([rank, basho.iloc[i]['rank']], axis=1)"
   ]
  },
  {
   "cell_type": "code",
   "execution_count": null,
   "metadata": {},
   "outputs": [],
   "source": [
    "rank.T.plot(kind='box', figsize=(30, 10), title=f'{year}年')\n",
    "plt.savefig(f'output/{year}_rank_box.png')"
   ]
  },
  {
   "cell_type": "code",
   "execution_count": null,
   "metadata": {},
   "outputs": [],
   "source": [
    "rank.T.plot(kind='line', style=['o-']*len(rank), figsize=(40, 13), title=f'{year}年')\n",
    "plt.savefig(f'output/{year}_rank_line.png')"
   ]
  },
  {
   "cell_type": "markdown",
   "metadata": {},
   "source": [
    "# bt_modelのability"
   ]
  },
  {
   "cell_type": "code",
   "execution_count": null,
   "metadata": {},
   "outputs": [],
   "source": [
    "ability = basho.iloc[0]['bt_ability']\n",
    "for i in range(1, basho.shape[0]):\n",
    "    ability = pd.concat([ability, basho.iloc[i]['bt_ability']], axis=1)"
   ]
  },
  {
   "cell_type": "code",
   "execution_count": null,
   "metadata": {},
   "outputs": [],
   "source": [
    "ability.T.plot(kind='box', figsize=(36, 10), title=f'{year}年')\n",
    "plt.savefig(f'output/{year}_ability_box.png')"
   ]
  },
  {
   "cell_type": "code",
   "execution_count": null,
   "metadata": {},
   "outputs": [],
   "source": [
    "ability.T.plot(kind='line', style=['o-']*len(ability), figsize=(40, 13), title=f'{year}年')\n",
    "plt.savefig(f'output/{year}_ability_line.png')"
   ]
  },
  {
   "cell_type": "code",
   "execution_count": null,
   "metadata": {},
   "outputs": [],
   "source": []
  }
 ],
 "metadata": {
  "kernelspec": {
   "display_name": "Python 3",
   "language": "python",
   "name": "python3"
  },
  "language_info": {
   "codemirror_mode": {
    "name": "ipython",
    "version": 3
   },
   "file_extension": ".py",
   "mimetype": "text/x-python",
   "name": "python",
   "nbconvert_exporter": "python",
   "pygments_lexer": "ipython3",
   "version": "3.6.4"
  }
 },
 "nbformat": 4,
 "nbformat_minor": 2
}
