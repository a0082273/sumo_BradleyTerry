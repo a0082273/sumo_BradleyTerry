{
 "cells": [
  {
   "cell_type": "code",
   "execution_count": null,
   "metadata": {},
   "outputs": [],
   "source": [
    "year01 = '2001'\n",
    "year02 = '2002'\n",
    "year03 = '2003'\n",
    "year04 = '2004'\n",
    "year05 = '2005'\n",
    "year06 = '2006'\n",
    "year07 = '2007'\n",
    "year08 = '2008'\n",
    "year09 = '2009'\n",
    "year10 = '2010'\n",
    "year11 = '2011'\n",
    "year12 = '2012'\n",
    "year13 = '2013'\n",
    "year14 = '2014'\n",
    "year15 = '2015'\n",
    "year16 = '2016'\n",
    "year17 = '2017'\n",
    "year18 = '2018'\n",
    "years = year01+'-'+year18\n",
    "basho011 = pd.read_csv(f'output/{year01}01_rikishi_status.csv', index_col=0)\n",
    "basho012 = pd.read_csv(f'output/{year01}03_rikishi_status.csv', index_col=0)\n",
    "basho013 = pd.read_csv(f'output/{year01}05_rikishi_status.csv', index_col=0)\n",
    "basho014 = pd.read_csv(f'output/{year01}07_rikishi_status.csv', index_col=0)\n",
    "basho015 = pd.read_csv(f'output/{year01}09_rikishi_status.csv', index_col=0)\n",
    "basho016 = pd.read_csv(f'output/{year01}11_rikishi_status.csv', index_col=0)\n",
    "basho021 = pd.read_csv(f'output/{year02}01_rikishi_status.csv', index_col=0)\n",
    "basho022 = pd.read_csv(f'output/{year02}03_rikishi_status.csv', index_col=0)\n",
    "#basho023 = pd.read_csv(f'output/{year02}05_rikishi_status.csv', index_col=0)\n",
    "basho024 = pd.read_csv(f'output/{year02}07_rikishi_status.csv', index_col=0)\n",
    "basho025 = pd.read_csv(f'output/{year02}09_rikishi_status.csv', index_col=0)\n",
    "basho026 = pd.read_csv(f'output/{year02}11_rikishi_status.csv', index_col=0)\n",
    "basho031 = pd.read_csv(f'output/{year03}01_rikishi_status.csv', index_col=0)\n",
    "basho032 = pd.read_csv(f'output/{year03}03_rikishi_status.csv', index_col=0)\n",
    "basho033 = pd.read_csv(f'output/{year03}05_rikishi_status.csv', index_col=0)\n",
    "basho034 = pd.read_csv(f'output/{year03}07_rikishi_status.csv', index_col=0)\n",
    "basho035 = pd.read_csv(f'output/{year03}09_rikishi_status.csv', index_col=0)\n",
    "basho036 = pd.read_csv(f'output/{year03}11_rikishi_status.csv', index_col=0)\n",
    "basho041 = pd.read_csv(f'output/{year04}01_rikishi_status.csv', index_col=0)\n",
    "basho042 = pd.read_csv(f'output/{year04}03_rikishi_status.csv', index_col=0)\n",
    "basho043 = pd.read_csv(f'output/{year04}05_rikishi_status.csv', index_col=0)\n",
    "basho044 = pd.read_csv(f'output/{year04}07_rikishi_status.csv', index_col=0)\n",
    "basho045 = pd.read_csv(f'output/{year04}09_rikishi_status.csv', index_col=0)\n",
    "basho046 = pd.read_csv(f'output/{year04}11_rikishi_status.csv', index_col=0)\n",
    "basho051 = pd.read_csv(f'output/{year05}01_rikishi_status.csv', index_col=0)\n",
    "basho052 = pd.read_csv(f'output/{year05}03_rikishi_status.csv', index_col=0)\n",
    "basho053 = pd.read_csv(f'output/{year05}05_rikishi_status.csv', index_col=0)\n",
    "basho054 = pd.read_csv(f'output/{year05}07_rikishi_status.csv', index_col=0)\n",
    "basho055 = pd.read_csv(f'output/{year05}09_rikishi_status.csv', index_col=0)\n",
    "basho056 = pd.read_csv(f'output/{year05}11_rikishi_status.csv', index_col=0)\n",
    "basho061 = pd.read_csv(f'output/{year06}01_rikishi_status.csv', index_col=0)\n",
    "basho062 = pd.read_csv(f'output/{year06}03_rikishi_status.csv', index_col=0)\n",
    "basho063 = pd.read_csv(f'output/{year06}05_rikishi_status.csv', index_col=0)\n",
    "basho064 = pd.read_csv(f'output/{year06}07_rikishi_status.csv', index_col=0)\n",
    "basho065 = pd.read_csv(f'output/{year06}09_rikishi_status.csv', index_col=0)\n",
    "basho066 = pd.read_csv(f'output/{year06}11_rikishi_status.csv', index_col=0)\n",
    "basho071 = pd.read_csv(f'output/{year07}01_rikishi_status.csv', index_col=0)\n",
    "basho072 = pd.read_csv(f'output/{year07}03_rikishi_status.csv', index_col=0)\n",
    "basho073 = pd.read_csv(f'output/{year07}05_rikishi_status.csv', index_col=0)\n",
    "basho074 = pd.read_csv(f'output/{year07}07_rikishi_status.csv', index_col=0)\n",
    "basho075 = pd.read_csv(f'output/{year07}09_rikishi_status.csv', index_col=0)\n",
    "basho076 = pd.read_csv(f'output/{year07}11_rikishi_status.csv', index_col=0)\n",
    "basho081 = pd.read_csv(f'output/{year08}01_rikishi_status.csv', index_col=0)\n",
    "basho082 = pd.read_csv(f'output/{year08}03_rikishi_status.csv', index_col=0)\n",
    "basho083 = pd.read_csv(f'output/{year08}05_rikishi_status.csv', index_col=0)\n",
    "basho084 = pd.read_csv(f'output/{year08}07_rikishi_status.csv', index_col=0)\n",
    "basho085 = pd.read_csv(f'output/{year08}09_rikishi_status.csv', index_col=0)\n",
    "basho086 = pd.read_csv(f'output/{year08}11_rikishi_status.csv', index_col=0)\n",
    "basho091 = pd.read_csv(f'output/{year09}01_rikishi_status.csv', index_col=0)\n",
    "basho092 = pd.read_csv(f'output/{year09}03_rikishi_status.csv', index_col=0)\n",
    "basho093 = pd.read_csv(f'output/{year09}05_rikishi_status.csv', index_col=0)\n",
    "basho094 = pd.read_csv(f'output/{year09}07_rikishi_status.csv', index_col=0)\n",
    "basho095 = pd.read_csv(f'output/{year09}09_rikishi_status.csv', index_col=0)\n",
    "basho096 = pd.read_csv(f'output/{year09}11_rikishi_status.csv', index_col=0)\n",
    "basho101 = pd.read_csv(f'output/{year10}01_rikishi_status.csv', index_col=0)\n",
    "basho102 = pd.read_csv(f'output/{year10}03_rikishi_status.csv', index_col=0)\n",
    "basho103 = pd.read_csv(f'output/{year10}05_rikishi_status.csv', index_col=0)\n",
    "basho104 = pd.read_csv(f'output/{year10}07_rikishi_status.csv', index_col=0)\n",
    "basho105 = pd.read_csv(f'output/{year10}09_rikishi_status.csv', index_col=0)\n",
    "basho106 = pd.read_csv(f'output/{year10}11_rikishi_status.csv', index_col=0)\n",
    "basho111 = pd.read_csv(f'output/{year11}01_rikishi_status.csv', index_col=0)\n",
    "#basho112 = pd.read_csv(f'output/{year11}03_rikishi_status.csv', index_col=0)\n",
    "#basho113 = pd.read_csv(f'output/{year11}05_rikishi_status.csv', index_col=0)\n",
    "basho114 = pd.read_csv(f'output/{year11}07_rikishi_status.csv', index_col=0)\n",
    "basho115 = pd.read_csv(f'output/{year11}09_rikishi_status.csv', index_col=0)\n",
    "basho116 = pd.read_csv(f'output/{year11}11_rikishi_status.csv', index_col=0)\n",
    "basho121 = pd.read_csv(f'output/{year12}01_rikishi_status.csv', index_col=0)\n",
    "basho122 = pd.read_csv(f'output/{year12}03_rikishi_status.csv', index_col=0)\n",
    "basho123 = pd.read_csv(f'output/{year12}05_rikishi_status.csv', index_col=0)\n",
    "basho124 = pd.read_csv(f'output/{year12}07_rikishi_status.csv', index_col=0)\n",
    "basho125 = pd.read_csv(f'output/{year12}09_rikishi_status.csv', index_col=0)\n",
    "basho126 = pd.read_csv(f'output/{year12}11_rikishi_status.csv', index_col=0)\n",
    "basho131 = pd.read_csv(f'output/{year13}01_rikishi_status.csv', index_col=0)\n",
    "basho132 = pd.read_csv(f'output/{year13}03_rikishi_status.csv', index_col=0)\n",
    "basho133 = pd.read_csv(f'output/{year13}05_rikishi_status.csv', index_col=0)\n",
    "basho134 = pd.read_csv(f'output/{year13}07_rikishi_status.csv', index_col=0)\n",
    "basho135 = pd.read_csv(f'output/{year13}09_rikishi_status.csv', index_col=0)\n",
    "basho136 = pd.read_csv(f'output/{year13}11_rikishi_status.csv', index_col=0)\n",
    "basho141 = pd.read_csv(f'output/{year14}01_rikishi_status.csv', index_col=0)\n",
    "basho142 = pd.read_csv(f'output/{year14}03_rikishi_status.csv', index_col=0)\n",
    "basho143 = pd.read_csv(f'output/{year14}05_rikishi_status.csv', index_col=0)\n",
    "basho144 = pd.read_csv(f'output/{year14}07_rikishi_status.csv', index_col=0)\n",
    "basho145 = pd.read_csv(f'output/{year14}09_rikishi_status.csv', index_col=0)\n",
    "basho146 = pd.read_csv(f'output/{year14}11_rikishi_status.csv', index_col=0)\n",
    "basho151 = pd.read_csv(f'output/{year15}01_rikishi_status.csv', index_col=0)\n",
    "basho152 = pd.read_csv(f'output/{year15}03_rikishi_status.csv', index_col=0)\n",
    "basho153 = pd.read_csv(f'output/{year15}05_rikishi_status.csv', index_col=0)\n",
    "basho154 = pd.read_csv(f'output/{year15}07_rikishi_status.csv', index_col=0)\n",
    "basho155 = pd.read_csv(f'output/{year15}09_rikishi_status.csv', index_col=0)\n",
    "basho156 = pd.read_csv(f'output/{year15}11_rikishi_status.csv', index_col=0)\n",
    "basho161 = pd.read_csv(f'output/{year16}01_rikishi_status.csv', index_col=0)\n",
    "basho162 = pd.read_csv(f'output/{year16}03_rikishi_status.csv', index_col=0)\n",
    "basho163 = pd.read_csv(f'output/{year16}05_rikishi_status.csv', index_col=0)\n",
    "basho164 = pd.read_csv(f'output/{year16}07_rikishi_status.csv', index_col=0)\n",
    "basho165 = pd.read_csv(f'output/{year16}09_rikishi_status.csv', index_col=0)\n",
    "basho166 = pd.read_csv(f'output/{year16}11_rikishi_status.csv', index_col=0)\n",
    "basho171 = pd.read_csv(f'output/{year17}01_rikishi_status.csv', index_col=0)\n",
    "basho172 = pd.read_csv(f'output/{year17}03_rikishi_status.csv', index_col=0)\n",
    "basho173 = pd.read_csv(f'output/{year17}05_rikishi_status.csv', index_col=0)\n",
    "basho174 = pd.read_csv(f'output/{year17}07_rikishi_status.csv', index_col=0)\n",
    "basho175 = pd.read_csv(f'output/{year17}09_rikishi_status.csv', index_col=0)\n",
    "basho176 = pd.read_csv(f'output/{year17}11_rikishi_status.csv', index_col=0)\n",
    "basho181 = pd.read_csv(f'output/{year18}01_rikishi_status.csv', index_col=0)\n",
    "basho182 = pd.read_csv(f'output/{year18}03_rikishi_status.csv', index_col=0)\n",
    "basho183 = pd.read_csv(f'output/{year18}05_rikishi_status.csv', index_col=0)\n",
    "basho184 = pd.read_csv(f'output/{year18}07_rikishi_status.csv', index_col=0)\n",
    "#basho185 = pd.read_csv(f'output/{year18}09_rikishi_status.csv', index_col=0)\n",
    "#basho186 = pd.read_csv(f'output/{year18}11_rikishi_status.csv', index_col=0)"
   ]
  },
  {
   "cell_type": "code",
   "execution_count": null,
   "metadata": {
    "code_folding": [
     0
    ]
   },
   "outputs": [],
   "source": [
    "basho = pd.Panel(data={'basho011': basho011, 'basho012': basho012, 'basho013': basho013, 'basho014': basho014, 'basho015': basho015, 'basho016': basho016,\n",
    "                       'basho021': basho021, 'basho022': basho022, 'basho024': basho024, 'basho025': basho025, 'basho026': basho026,\n",
    "                       'basho031': basho031, 'basho032': basho032, 'basho033': basho033, 'basho034': basho034, 'basho035': basho035, 'basho036': basho036,\n",
    "                       'basho041': basho041, 'basho042': basho042, 'basho043': basho043, 'basho044': basho044, 'basho045': basho045, 'basho046': basho046,\n",
    "                       'basho051': basho051, 'basho052': basho052, 'basho053': basho053, 'basho054': basho054, 'basho055': basho055, 'basho056': basho056,\n",
    "                       'basho061': basho061, 'basho062': basho062, 'basho063': basho063, 'basho064': basho064, 'basho065': basho065, 'basho066': basho066,\n",
    "                       'basho071': basho071, 'basho072': basho072, 'basho073': basho073, 'basho074': basho074, 'basho075': basho075, 'basho076': basho076,\n",
    "                       'basho081': basho081, 'basho082': basho082, 'basho083': basho083, 'basho084': basho084, 'basho085': basho085, 'basho086': basho086,\n",
    "                       'basho091': basho091, 'basho092': basho092, 'basho093': basho093, 'basho094': basho094, 'basho095': basho095, 'basho096': basho096,\n",
    "                       'basho101': basho101, 'basho102': basho102, 'basho103': basho103, 'basho104': basho104, 'basho105': basho105, 'basho106': basho106,\n",
    "                       'basho111': basho111, 'basho114': basho114, 'basho115': basho115, 'basho116': basho116,\n",
    "                       'basho121': basho121, 'basho122': basho122, 'basho123': basho123, 'basho124': basho124, 'basho125': basho125, 'basho126': basho126,\n",
    "                       'basho131': basho131, 'basho132': basho132, 'basho133': basho133, 'basho134': basho134, 'basho135': basho135, 'basho136': basho136,\n",
    "                       'basho141': basho141, 'basho142': basho142, 'basho143': basho143, 'basho144': basho144, 'basho145': basho145, 'basho146': basho146,\n",
    "                       'basho151': basho151, 'basho152': basho152, 'basho153': basho153, 'basho154': basho154, 'basho155': basho155, 'basho156': basho156,\n",
    "                       'basho161': basho161, 'basho162': basho162, 'basho163': basho163, 'basho164': basho164, 'basho165': basho165, 'basho166': basho166,\n",
    "                       'basho171': basho171, 'basho172': basho172, 'basho173': basho173, 'basho174': basho174, 'basho175': basho175, 'basho176': basho176,\n",
    "                       'basho181': basho181, 'basho182': basho182, 'basho183': basho183, 'basho184': basho184\n",
    "                      })"
   ]
  },
  {
   "cell_type": "code",
   "execution_count": null,
   "metadata": {},
   "outputs": [],
   "source": [
    "basho"
   ]
  },
  {
   "cell_type": "code",
   "execution_count": null,
   "metadata": {
    "code_folding": []
   },
   "outputs": [],
   "source": [
    "wins = basho.iloc[0]['n_win']\n",
    "for i in range(1, basho.shape[0]):\n",
    "    wins = pd.concat([wins, basho.iloc[i]['n_win']], axis=1)"
   ]
  },
  {
   "cell_type": "code",
   "execution_count": null,
   "metadata": {},
   "outputs": [],
   "source": [
    "rank = basho.iloc[0]['rank']\n",
    "for i in range(1, basho.shape[0]):\n",
    "    rank = pd.concat([rank, basho.iloc[i]['rank']], axis=1)"
   ]
  },
  {
   "cell_type": "code",
   "execution_count": null,
   "metadata": {},
   "outputs": [],
   "source": [
    "ability = basho.iloc[0]['bt_ability']\n",
    "for i in range(1, basho.shape[0]):\n",
    "    ability = pd.concat([ability, basho.iloc[i]['bt_ability']], axis=1)"
   ]
  },
  {
   "cell_type": "markdown",
   "metadata": {},
   "source": [
    "# 主要力士の可視化"
   ]
  },
  {
   "cell_type": "markdown",
   "metadata": {},
   "source": [
    "# 朝青龍"
   ]
  },
  {
   "cell_type": "code",
   "execution_count": null,
   "metadata": {},
   "outputs": [],
   "source": [
    "rank.T['朝青龍'].values"
   ]
  },
  {
   "cell_type": "code",
   "execution_count": null,
   "metadata": {},
   "outputs": [],
   "source": [
    "rank.T['朝青龍'].values"
   ]
  },
  {
   "cell_type": "code",
   "execution_count": null,
   "metadata": {},
   "outputs": [],
   "source": [
    "len(rank.T['朝青龍'].values)"
   ]
  },
  {
   "cell_type": "code",
   "execution_count": null,
   "metadata": {},
   "outputs": [],
   "source": [
    "rank.T['朝青龍'].plot(kind='line', style=['o-']*len(rank), figsize=(12, 5), title=f'{years}年 朝青龍')\n",
    "plt.savefig(f'output/{years}_rank_asashoryu')"
   ]
  },
  {
   "cell_type": "code",
   "execution_count": null,
   "metadata": {},
   "outputs": [],
   "source": [
    "wins.T['朝青龍'].plot(kind='line', style=['o-']*len(wins), figsize=(12, 5), title=f'{years}年 朝青龍')\n",
    "plt.savefig(f'output/{years}_wins_asashoryu')"
   ]
  },
  {
   "cell_type": "markdown",
   "metadata": {},
   "source": [
    "# 白鵬"
   ]
  },
  {
   "cell_type": "code",
   "execution_count": null,
   "metadata": {},
   "outputs": [],
   "source": [
    "rank.T['白鵬'].values"
   ]
  },
  {
   "cell_type": "code",
   "execution_count": null,
   "metadata": {},
   "outputs": [],
   "source": [
    "rank.T['白鵬'].plot(kind='line', style=['o-']*len(rank), figsize=(12, 5), title=f'{years}年 白鵬')\n",
    "plt.savefig(f'output/{years}_rank_hakuho')"
   ]
  },
  {
   "cell_type": "code",
   "execution_count": null,
   "metadata": {},
   "outputs": [],
   "source": [
    "wins.T['白鵬'].plot(kind='line', style=['o-']*len(wins), figsize=(12, 5), title=f'{years}年 白鵬')\n",
    "plt.savefig(f'output/{years}_wins_hakuho')"
   ]
  },
  {
   "cell_type": "markdown",
   "metadata": {},
   "source": [
    "# 日馬富士"
   ]
  },
  {
   "cell_type": "code",
   "execution_count": null,
   "metadata": {},
   "outputs": [],
   "source": [
    "rank.T['日馬富士'].values"
   ]
  },
  {
   "cell_type": "code",
   "execution_count": null,
   "metadata": {},
   "outputs": [],
   "source": [
    "rank.T['日馬富士'].plot(kind='line', style=['o-']*len(rank), figsize=(12, 5), title=f'{years}年 日馬富士')\n",
    "plt.savefig(f'output/{years}_rank_harumahuji')"
   ]
  },
  {
   "cell_type": "code",
   "execution_count": null,
   "metadata": {},
   "outputs": [],
   "source": [
    "wins.T['日馬富士'].plot(kind='line', style=['o-']*len(wins), figsize=(12, 5), title=f'{years}年 日馬富士')\n",
    "plt.savefig(f'output/{years}_wins_harumahuji')"
   ]
  },
  {
   "cell_type": "markdown",
   "metadata": {},
   "source": [
    "# 鶴竜"
   ]
  },
  {
   "cell_type": "code",
   "execution_count": null,
   "metadata": {},
   "outputs": [],
   "source": [
    "rank.T['鶴竜'].values"
   ]
  },
  {
   "cell_type": "code",
   "execution_count": null,
   "metadata": {},
   "outputs": [],
   "source": [
    "rank.T['鶴竜'].plot(kind='line', style=['o-']*len(rank), figsize=(12, 5), title=f'{years}年 鶴竜')\n",
    "plt.savefig(f'output/{years}_rank_kakuryu')"
   ]
  },
  {
   "cell_type": "code",
   "execution_count": null,
   "metadata": {},
   "outputs": [],
   "source": [
    "wins.T['鶴竜'].plot(kind='line', style=['o-']*len(wins), figsize=(12, 5), title=f'{years}年 鶴竜')\n",
    "plt.savefig(f'output/{years}_wins_kakuryu')"
   ]
  },
  {
   "cell_type": "markdown",
   "metadata": {},
   "source": [
    "# 稀勢の里"
   ]
  },
  {
   "cell_type": "code",
   "execution_count": null,
   "metadata": {},
   "outputs": [],
   "source": [
    "rank.T['稀勢の里'].values"
   ]
  },
  {
   "cell_type": "code",
   "execution_count": null,
   "metadata": {},
   "outputs": [],
   "source": [
    "rank.T['稀勢の里'].plot(kind='line', style=['o-']*len(rank), figsize=(12, 5), title=f'{years}年 稀勢の里')\n",
    "plt.savefig(f'output/{years}_rank_kisenosato')"
   ]
  },
  {
   "cell_type": "code",
   "execution_count": null,
   "metadata": {},
   "outputs": [],
   "source": [
    "wins.T['稀勢の里'].plot(kind='line', style=['o-']*len(wins), figsize=(12, 5), title=f'{years}年 稀勢の里')\n",
    "plt.savefig(f'output/{years}_wins_kisenosato')"
   ]
  },
  {
   "cell_type": "markdown",
   "metadata": {},
   "source": [
    "# 2001年以降の横綱"
   ]
  },
  {
   "cell_type": "code",
   "execution_count": null,
   "metadata": {},
   "outputs": [],
   "source": [
    "rank_heisei = pd.concat([rank.T['朝青龍'], rank.T['白鵬'], rank.T['日馬富士'], rank.T['鶴竜'], rank.T['稀勢の里']], axis=1)\n",
    "#rank_heisei.index = index=range(103)\n",
    "#rank_heisei\n",
    "wins_heisei = pd.concat([wins.T['朝青龍'], wins.T['白鵬'], wins.T['日馬富士'], wins.T['鶴竜'], wins.T['稀勢の里']], axis=1)"
   ]
  },
  {
   "cell_type": "code",
   "execution_count": null,
   "metadata": {},
   "outputs": [],
   "source": [
    "rank_heisei.plot(kind='line', style=['x-']*len(rank), figsize=(12, 5), title=f'{years}年 2001年以降の横綱', legend=True)\n",
    "plt.savefig(f'output/{years}_rank_heisei')"
   ]
  },
  {
   "cell_type": "code",
   "execution_count": null,
   "metadata": {},
   "outputs": [],
   "source": [
    "rank_heisei.plot(kind='box', figsize=(12, 5), title=f'{years}年 2001年以降の横綱')\n",
    "plt.savefig(f'output/{years}_rank_box_heissei')"
   ]
  },
  {
   "cell_type": "code",
   "execution_count": null,
   "metadata": {},
   "outputs": [],
   "source": [
    "wins_heisei.plot(kind='line', style=['x-']*len(wins), figsize=(12, 5), title=f'{years}年 2001年以降の横綱', legend=True)\n",
    "plt.savefig(f'output/{years}_wins_heisei')"
   ]
  },
  {
   "cell_type": "code",
   "execution_count": null,
   "metadata": {},
   "outputs": [],
   "source": [
    "wins_heisei.plot(kind='box', figsize=(12, 5), title=f'{years}年 2001年以降の横綱')\n",
    "plt.savefig(f'output/{years}_wins_box_heissei')"
   ]
  },
  {
   "cell_type": "markdown",
   "metadata": {},
   "source": [
    "# 御嶽海"
   ]
  },
  {
   "cell_type": "code",
   "execution_count": null,
   "metadata": {},
   "outputs": [],
   "source": [
    "rank.T['御嶽海'].values"
   ]
  },
  {
   "cell_type": "code",
   "execution_count": null,
   "metadata": {},
   "outputs": [],
   "source": [
    "rank.T['御嶽海'].plot(kind='line', style=['o-']*len(rank), figsize=(12, 5), title=f'{years}年 御嶽海')\n",
    "plt.savefig(f'output/{years}_rank_mitakeumi')"
   ]
  },
  {
   "cell_type": "code",
   "execution_count": null,
   "metadata": {},
   "outputs": [],
   "source": [
    "wins.T['御嶽海'].plot(kind='line', style=['o-']*len(wins), figsize=(12, 5), title=f'{years}年 御嶽海')\n",
    "plt.savefig(f'output/{years}_wins_mitakeumi')"
   ]
  },
  {
   "cell_type": "markdown",
   "metadata": {},
   "source": [
    "# 御嶽海と横綱"
   ]
  },
  {
   "cell_type": "code",
   "execution_count": null,
   "metadata": {},
   "outputs": [],
   "source": [
    "len(rank.T['御嶽海'].dropna())"
   ]
  },
  {
   "cell_type": "code",
   "execution_count": null,
   "metadata": {},
   "outputs": [],
   "source": [
    "rank_mitakeumi_yokoduna = pd.concat([rank.T['朝青龍'].dropna()[:17], rank.T['白鵬'].dropna()[:17], rank.T['日馬富士'].dropna()[:17], rank.T['鶴竜'].dropna()[:17], rank.T['稀勢の里'].dropna()[:17], rank.T['御嶽海'].dropna()[:17]], axis=1)\n",
    "wins_mitakeumi_yokoduna = pd.concat([wins.T['朝青龍'].dropna()[:17], wins.T['白鵬'].dropna()[:17], wins.T['日馬富士'].dropna()[:17], wins.T['鶴竜'].dropna()[:17], wins.T['稀勢の里'].dropna()[:17], wins.T['御嶽海'].dropna()[:17]], axis=1)"
   ]
  },
  {
   "cell_type": "code",
   "execution_count": null,
   "metadata": {},
   "outputs": [],
   "source": [
    "rank_mitakeumi_yokoduna.plot(kind='line', style=['x-']*len(rank), figsize=(12, 5), title='新入幕から17場所目までの成績 御嶽海と2001年以降の横綱', legend=True)\n",
    "plt.savefig(f'output/{years}_rank_mitakeumi_yokoduna')"
   ]
  },
  {
   "cell_type": "code",
   "execution_count": null,
   "metadata": {},
   "outputs": [],
   "source": [
    "rank_mitakeumi_yokoduna.plot(kind='box', figsize=(12, 5), title='新入幕から17場所目までの成績 御嶽海と2001年以降の横綱')\n",
    "plt.savefig(f'output/{years}_rank_box_mitakeumi_yokoduna')"
   ]
  },
  {
   "cell_type": "code",
   "execution_count": null,
   "metadata": {},
   "outputs": [],
   "source": [
    "wins_mitakeumi_yokoduna.plot(kind='line', style=['x-']*len(wins), figsize=(12, 5), title='新入幕から17場所目までの成績 御嶽海と2001年以降の横綱', legend=True)\n",
    "plt.savefig(f'output/{years}_wins_mitakeumi_yokoduna')"
   ]
  },
  {
   "cell_type": "code",
   "execution_count": null,
   "metadata": {},
   "outputs": [],
   "source": [
    "wins_mitakeumi_yokoduna.plot(kind='box', figsize=(12, 5), title='新入幕から17場所目までの成績 御嶽海と2001年以降の横綱')\n",
    "plt.savefig(f'output/{years}_wins_box_mitakeumi_yokoduna')"
   ]
  },
  {
   "cell_type": "markdown",
   "metadata": {},
   "source": [
    "# 遠藤"
   ]
  },
  {
   "cell_type": "code",
   "execution_count": null,
   "metadata": {},
   "outputs": [],
   "source": [
    "rank.T['遠藤'].values"
   ]
  },
  {
   "cell_type": "code",
   "execution_count": null,
   "metadata": {},
   "outputs": [],
   "source": [
    "rank.T['遠藤'].plot(kind='line', style=['o-']*len(rank), figsize=(12, 5), title=f'{years}年 遠藤')\n",
    "plt.savefig(f'output/{years}_rank_endo')"
   ]
  },
  {
   "cell_type": "code",
   "execution_count": null,
   "metadata": {},
   "outputs": [],
   "source": [
    "wins.T['遠藤'].plot(kind='line', style=['o-']*len(wins), figsize=(12, 5), title=f'{years}年 遠藤')\n",
    "plt.savefig(f'output/{years}_wins_endo')"
   ]
  },
  {
   "cell_type": "markdown",
   "metadata": {},
   "source": [
    "# 平成28年7月場所の三役"
   ]
  },
  {
   "cell_type": "code",
   "execution_count": null,
   "metadata": {},
   "outputs": [],
   "source": [
    "rank_201807sanyaku = pd.concat([rank.T['鶴竜'], rank.T['白鵬'], rank.T['稀勢の里'], rank.T['豪栄道'], rank.T['高安'], rank.T['栃ノ心'], rank.T['逸ノ城'], rank.T['御嶽海'], rank.T['玉鷲'], rank.T['松鳳山']], axis=1)\n",
    "wins_201807sanyaku = pd.concat([wins.T['鶴竜'], wins.T['白鵬'], wins.T['稀勢の里'], wins.T['豪栄道'], wins.T['高安'], wins.T['栃ノ心'], wins.T['逸ノ城'], wins.T['御嶽海'], wins.T['玉鷲'], wins.T['松鳳山']], axis=1)"
   ]
  },
  {
   "cell_type": "code",
   "execution_count": null,
   "metadata": {},
   "outputs": [],
   "source": [
    "rank_201807sanyaku.plot(kind='line', style=['x-']*len(rank), figsize=(20, 8), title=f'{years}年 2018年7月場所の三役', legend=True)\n",
    "plt.savefig(f'output/{years}_rank_201807sanyaku')"
   ]
  },
  {
   "cell_type": "code",
   "execution_count": null,
   "metadata": {},
   "outputs": [],
   "source": [
    "rank_201807sanyaku.plot(kind='box', figsize=(15, 6), title=f'{years}年 2018年7月場所の三役')\n",
    "plt.savefig(f'output/{years}_rank_box_heissei')"
   ]
  },
  {
   "cell_type": "code",
   "execution_count": null,
   "metadata": {},
   "outputs": [],
   "source": [
    "wins_201807sanyaku.plot(kind='line', style=['x-']*len(wins), figsize=(20, 8), title=f'{years}年 2018年7月場所の三役', legend=True)\n",
    "plt.savefig(f'output/{years}_wins_201807sanyaku')"
   ]
  },
  {
   "cell_type": "code",
   "execution_count": null,
   "metadata": {},
   "outputs": [],
   "source": [
    "wins_201807sanyaku.plot(kind='box', figsize=(15, 6), title=f'{years}年 2018年7月場所の三役')\n",
    "plt.savefig(f'output/{years}_wins_box_heissei')"
   ]
  },
  {
   "cell_type": "code",
   "execution_count": null,
   "metadata": {},
   "outputs": [],
   "source": [
    "rank_201807sanyaku17 = pd.concat([rank.T['鶴竜'].dropna()[:17], rank.T['白鵬'].dropna()[:17], rank.T['稀勢の里'].dropna()[:17], rank.T['豪栄道'].dropna()[:17], rank.T['高安'].dropna()[:17], rank.T['栃ノ心'].dropna()[:17], rank.T['逸ノ城'].dropna()[:17], rank.T['御嶽海'].dropna()[:17], rank.T['玉鷲'].dropna()[:17], rank.T['松鳳山'].dropna()[:17]], axis=1)\n",
    "wins_201807sanyaku17 = pd.concat([wins.T['鶴竜'].dropna()[:17], wins.T['白鵬'].dropna()[:17], wins.T['稀勢の里'].dropna()[:17], wins.T['豪栄道'].dropna()[:17], wins.T['高安'].dropna()[:17], wins.T['栃ノ心'].dropna()[:17], wins.T['逸ノ城'].dropna()[:17], wins.T['御嶽海'].dropna()[:17], wins.T['玉鷲'].dropna()[:17], wins.T['松鳳山'].dropna()[:17]], axis=1)"
   ]
  },
  {
   "cell_type": "code",
   "execution_count": null,
   "metadata": {},
   "outputs": [],
   "source": [
    "rank_201807sanyaku17.plot(kind='line', style=['x-']*len(rank), figsize=(20, 8), title='新入幕から17場所目までの成績 2018年7月場所の三役', legend=True)\n",
    "plt.savefig(f'output/{years}_rank_201807sanyaku17')"
   ]
  },
  {
   "cell_type": "code",
   "execution_count": null,
   "metadata": {},
   "outputs": [],
   "source": [
    "rank_201807sanyaku17.plot(kind='box', figsize=(15, 6), title='新入幕から17場所目までの成績 2018年7月場所の三役')\n",
    "plt.savefig(f'output/{years}_rank_box_201807sanyaku17')"
   ]
  },
  {
   "cell_type": "code",
   "execution_count": null,
   "metadata": {},
   "outputs": [],
   "source": [
    "wins_201807sanyaku17.plot(kind='line', style=['x-']*len(wins), figsize=(20, 8), title='新入幕から17場所目までの成績 2018年7月場所の三役', legend=True)\n",
    "plt.savefig(f'output/{years}_wins_201807sanyaku17')"
   ]
  },
  {
   "cell_type": "code",
   "execution_count": null,
   "metadata": {},
   "outputs": [],
   "source": [
    "wins_201807sanyaku17.plot(kind='box', figsize=(15, 6), title='新入幕から17場所目までの成績 2018年7月場所の三役')\n",
    "plt.savefig(f'output/{years}_wins_box_201807sanyaku17')"
   ]
  },
  {
   "cell_type": "markdown",
   "metadata": {},
   "source": [
    "# 2001〜2018年で50場所以上出場した力士"
   ]
  },
  {
   "cell_type": "code",
   "execution_count": null,
   "metadata": {},
   "outputs": [],
   "source": [
    "n_basho = 50\n",
    "basho = basho.loc[:, wins.T.count()[wins.T.count() > n_basho].index, :]"
   ]
  },
  {
   "cell_type": "code",
   "execution_count": null,
   "metadata": {
    "code_folding": []
   },
   "outputs": [],
   "source": [
    "wins = basho.iloc[0]['n_win']\n",
    "for i in range(1, basho.shape[0]):\n",
    "    wins = pd.concat([wins, basho.iloc[i]['n_win']], axis=1)"
   ]
  },
  {
   "cell_type": "code",
   "execution_count": null,
   "metadata": {},
   "outputs": [],
   "source": [
    "rank = basho.iloc[0]['rank']\n",
    "for i in range(1, basho.shape[0]):\n",
    "    rank = pd.concat([rank, basho.iloc[i]['rank']], axis=1)"
   ]
  },
  {
   "cell_type": "code",
   "execution_count": null,
   "metadata": {},
   "outputs": [],
   "source": [
    "ability = basho.iloc[0]['bt_ability']\n",
    "for i in range(1, basho.shape[0]):\n",
    "    ability = pd.concat([ability, basho.iloc[i]['bt_ability']], axis=1)"
   ]
  },
  {
   "cell_type": "code",
   "execution_count": null,
   "metadata": {},
   "outputs": [],
   "source": [
    "basho"
   ]
  },
  {
   "cell_type": "markdown",
   "metadata": {},
   "source": [
    "# 勝ち星の数"
   ]
  },
  {
   "cell_type": "code",
   "execution_count": null,
   "metadata": {},
   "outputs": [],
   "source": [
    "wins.T.plot(kind='box', figsize=(60, 10), title=f'{years}年')\n",
    "plt.savefig(f'output/{years}_wins_box{n_basho}')"
   ]
  },
  {
   "cell_type": "code",
   "execution_count": null,
   "metadata": {},
   "outputs": [],
   "source": [
    "wins.T.plot(kind='line', style=['o-']*len(wins), figsize=(60, 6), title=f'{years}年')\n",
    "plt.savefig(f'output/{years}_wins_line{n_basho}')"
   ]
  },
  {
   "cell_type": "markdown",
   "metadata": {},
   "source": [
    "# bt_modelのabilityの順位"
   ]
  },
  {
   "cell_type": "code",
   "execution_count": null,
   "metadata": {},
   "outputs": [],
   "source": [
    "rank.T.plot(kind='box', figsize=(60, 10), title=f'{years}年')\n",
    "plt.savefig(f'output/{years}_rank_box{n_basho}')"
   ]
  },
  {
   "cell_type": "code",
   "execution_count": null,
   "metadata": {},
   "outputs": [],
   "source": [
    "rank.T.plot(kind='line', style=['o-']*len(rank), figsize=(60, 6), title=f'{years}年')\n",
    "plt.savefig(f'output/{years}_rank_line{n_basho}')"
   ]
  },
  {
   "cell_type": "markdown",
   "metadata": {},
   "source": [
    "# bt_modelのabilityの数値"
   ]
  },
  {
   "cell_type": "code",
   "execution_count": null,
   "metadata": {},
   "outputs": [],
   "source": [
    "ability.T.plot(kind='box', figsize=(60, 10), title=f'{years}年')\n",
    "plt.savefig(f'output/{years}_ability_box{n_basho}')"
   ]
  },
  {
   "cell_type": "code",
   "execution_count": null,
   "metadata": {},
   "outputs": [],
   "source": [
    "ability.T.plot(kind='line', style=['o-']*len(ability), figsize=(60, 6), title=f'{years}年')\n",
    "plt.savefig(f'output/{years}_ability_line{n_basho}')"
   ]
  },
  {
   "cell_type": "code",
   "execution_count": null,
   "metadata": {},
   "outputs": [],
   "source": []
  }
 ],
 "metadata": {
  "kernelspec": {
   "display_name": "Python 3",
   "language": "python",
   "name": "python3"
  },
  "language_info": {
   "codemirror_mode": {
    "name": "ipython",
    "version": 3
   },
   "file_extension": ".py",
   "mimetype": "text/x-python",
   "name": "python",
   "nbconvert_exporter": "python",
   "pygments_lexer": "ipython3",
   "version": "3.6.4"
  }
 },
 "nbformat": 4,
 "nbformat_minor": 2
}
