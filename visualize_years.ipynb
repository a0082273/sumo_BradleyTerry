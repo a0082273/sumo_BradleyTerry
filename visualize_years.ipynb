{
 "cells": [
  {
   "cell_type": "code",
   "execution_count": null,
   "metadata": {},
   "outputs": [],
   "source": [
    "year1 = '2018'\n",
    "year2 = '2017'\n",
    "year3 = '2016'\n",
    "year4 = '2015'\n",
    "year5 = '2014'\n",
    "year6 = '2013'\n",
    "year7 = '2012'\n",
    "year8 = '2011'\n",
    "year9 = '2010'\n",
    "year10 = '2009'\n",
    "year11 = '2008'\n",
    "year12 = '2007'\n",
    "year13 = '2006'\n",
    "year14 = '2005'\n",
    "year15 = '2004'\n",
    "year16 = '2003'\n",
    "year17 = '2002'\n",
    "year18 = '2001'\n",
    "years = year18+'-'+year1\n",
    "basho11 = pd.read_csv(f'output/{year1}01_rikishi_status.csv', index_col=0)\n",
    "basho12 = pd.read_csv(f'output/{year1}03_rikishi_status.csv', index_col=0)\n",
    "basho13 = pd.read_csv(f'output/{year1}05_rikishi_status.csv', index_col=0)\n",
    "basho14 = pd.read_csv(f'output/{year1}07_rikishi_status.csv', index_col=0)\n",
    "#basho15 = pd.read_csv(f'output/{year1}09_rikishi_status.csv', index_col=0)\n",
    "#basho16 = pd.read_csv(f'output/{year1}11_rikishi_status.csv', index_col=0)\n",
    "basho21 = pd.read_csv(f'output/{year2}01_rikishi_status.csv', index_col=0)\n",
    "basho22 = pd.read_csv(f'output/{year2}03_rikishi_status.csv', index_col=0)\n",
    "basho23 = pd.read_csv(f'output/{year2}05_rikishi_status.csv', index_col=0)\n",
    "basho24 = pd.read_csv(f'output/{year2}07_rikishi_status.csv', index_col=0)\n",
    "basho25 = pd.read_csv(f'output/{year2}09_rikishi_status.csv', index_col=0)\n",
    "basho26 = pd.read_csv(f'output/{year2}11_rikishi_status.csv', index_col=0)\n",
    "basho31 = pd.read_csv(f'output/{year3}01_rikishi_status.csv', index_col=0)\n",
    "basho32 = pd.read_csv(f'output/{year3}03_rikishi_status.csv', index_col=0)\n",
    "basho33 = pd.read_csv(f'output/{year3}05_rikishi_status.csv', index_col=0)\n",
    "basho34 = pd.read_csv(f'output/{year3}07_rikishi_status.csv', index_col=0)\n",
    "basho35 = pd.read_csv(f'output/{year3}09_rikishi_status.csv', index_col=0)\n",
    "basho36 = pd.read_csv(f'output/{year3}11_rikishi_status.csv', index_col=0)\n",
    "basho41 = pd.read_csv(f'output/{year4}01_rikishi_status.csv', index_col=0)\n",
    "basho42 = pd.read_csv(f'output/{year4}03_rikishi_status.csv', index_col=0)\n",
    "basho43 = pd.read_csv(f'output/{year4}05_rikishi_status.csv', index_col=0)\n",
    "basho44 = pd.read_csv(f'output/{year4}07_rikishi_status.csv', index_col=0)\n",
    "basho45 = pd.read_csv(f'output/{year4}09_rikishi_status.csv', index_col=0)\n",
    "basho46 = pd.read_csv(f'output/{year4}11_rikishi_status.csv', index_col=0)\n",
    "basho51 = pd.read_csv(f'output/{year5}01_rikishi_status.csv', index_col=0)\n",
    "basho52 = pd.read_csv(f'output/{year5}03_rikishi_status.csv', index_col=0)\n",
    "basho53 = pd.read_csv(f'output/{year5}05_rikishi_status.csv', index_col=0)\n",
    "basho54 = pd.read_csv(f'output/{year5}07_rikishi_status.csv', index_col=0)\n",
    "basho55 = pd.read_csv(f'output/{year5}09_rikishi_status.csv', index_col=0)\n",
    "basho56 = pd.read_csv(f'output/{year5}11_rikishi_status.csv', index_col=0)\n",
    "basho61 = pd.read_csv(f'output/{year6}01_rikishi_status.csv', index_col=0)\n",
    "basho62 = pd.read_csv(f'output/{year6}03_rikishi_status.csv', index_col=0)\n",
    "basho63 = pd.read_csv(f'output/{year6}05_rikishi_status.csv', index_col=0)\n",
    "basho64 = pd.read_csv(f'output/{year6}07_rikishi_status.csv', index_col=0)\n",
    "basho65 = pd.read_csv(f'output/{year6}09_rikishi_status.csv', index_col=0)\n",
    "basho66 = pd.read_csv(f'output/{year6}11_rikishi_status.csv', index_col=0)\n",
    "basho71 = pd.read_csv(f'output/{year7}01_rikishi_status.csv', index_col=0)\n",
    "basho72 = pd.read_csv(f'output/{year7}03_rikishi_status.csv', index_col=0)\n",
    "basho73 = pd.read_csv(f'output/{year7}05_rikishi_status.csv', index_col=0)\n",
    "basho74 = pd.read_csv(f'output/{year7}07_rikishi_status.csv', index_col=0)\n",
    "basho75 = pd.read_csv(f'output/{year7}09_rikishi_status.csv', index_col=0)\n",
    "basho76 = pd.read_csv(f'output/{year7}11_rikishi_status.csv', index_col=0)\n",
    "basho81 = pd.read_csv(f'output/{year8}01_rikishi_status.csv', index_col=0)\n",
    "#basho82 = pd.read_csv(f'output/{year8}03_rikishi_status.csv', index_col=0)\n",
    "#basho83 = pd.read_csv(f'output/{year8}05_rikishi_status.csv', index_col=0)\n",
    "basho84 = pd.read_csv(f'output/{year8}07_rikishi_status.csv', index_col=0)\n",
    "basho85 = pd.read_csv(f'output/{year8}09_rikishi_status.csv', index_col=0)\n",
    "basho86 = pd.read_csv(f'output/{year8}11_rikishi_status.csv', index_col=0)\n",
    "basho91 = pd.read_csv(f'output/{year9}01_rikishi_status.csv', index_col=0)\n",
    "basho92 = pd.read_csv(f'output/{year9}03_rikishi_status.csv', index_col=0)\n",
    "basho93 = pd.read_csv(f'output/{year9}05_rikishi_status.csv', index_col=0)\n",
    "basho94 = pd.read_csv(f'output/{year9}07_rikishi_status.csv', index_col=0)\n",
    "basho95 = pd.read_csv(f'output/{year9}09_rikishi_status.csv', index_col=0)\n",
    "basho96 = pd.read_csv(f'output/{year9}11_rikishi_status.csv', index_col=0)\n",
    "basho101 = pd.read_csv(f'output/{year10}01_rikishi_status.csv', index_col=0)\n",
    "basho102 = pd.read_csv(f'output/{year10}03_rikishi_status.csv', index_col=0)\n",
    "basho103 = pd.read_csv(f'output/{year10}05_rikishi_status.csv', index_col=0)\n",
    "basho104 = pd.read_csv(f'output/{year10}07_rikishi_status.csv', index_col=0)\n",
    "basho105 = pd.read_csv(f'output/{year10}09_rikishi_status.csv', index_col=0)\n",
    "basho106 = pd.read_csv(f'output/{year10}11_rikishi_status.csv', index_col=0)\n",
    "basho111 = pd.read_csv(f'output/{year11}01_rikishi_status.csv', index_col=0)\n",
    "basho112 = pd.read_csv(f'output/{year11}03_rikishi_status.csv', index_col=0)\n",
    "basho113 = pd.read_csv(f'output/{year11}05_rikishi_status.csv', index_col=0)\n",
    "basho114 = pd.read_csv(f'output/{year11}07_rikishi_status.csv', index_col=0)\n",
    "basho115 = pd.read_csv(f'output/{year11}09_rikishi_status.csv', index_col=0)\n",
    "basho116 = pd.read_csv(f'output/{year11}11_rikishi_status.csv', index_col=0)\n",
    "basho121 = pd.read_csv(f'output/{year12}01_rikishi_status.csv', index_col=0)\n",
    "basho122 = pd.read_csv(f'output/{year12}03_rikishi_status.csv', index_col=0)\n",
    "basho123 = pd.read_csv(f'output/{year12}05_rikishi_status.csv', index_col=0)\n",
    "basho124 = pd.read_csv(f'output/{year12}07_rikishi_status.csv', index_col=0)\n",
    "basho125 = pd.read_csv(f'output/{year12}09_rikishi_status.csv', index_col=0)\n",
    "basho126 = pd.read_csv(f'output/{year12}11_rikishi_status.csv', index_col=0)\n",
    "basho131 = pd.read_csv(f'output/{year13}01_rikishi_status.csv', index_col=0)\n",
    "basho132 = pd.read_csv(f'output/{year13}03_rikishi_status.csv', index_col=0)\n",
    "basho133 = pd.read_csv(f'output/{year13}05_rikishi_status.csv', index_col=0)\n",
    "basho134 = pd.read_csv(f'output/{year13}07_rikishi_status.csv', index_col=0)\n",
    "basho135 = pd.read_csv(f'output/{year13}09_rikishi_status.csv', index_col=0)\n",
    "basho136 = pd.read_csv(f'output/{year13}11_rikishi_status.csv', index_col=0)\n",
    "basho141 = pd.read_csv(f'output/{year14}01_rikishi_status.csv', index_col=0)\n",
    "basho142 = pd.read_csv(f'output/{year14}03_rikishi_status.csv', index_col=0)\n",
    "basho143 = pd.read_csv(f'output/{year14}05_rikishi_status.csv', index_col=0)\n",
    "basho144 = pd.read_csv(f'output/{year14}07_rikishi_status.csv', index_col=0)\n",
    "basho145 = pd.read_csv(f'output/{year14}09_rikishi_status.csv', index_col=0)\n",
    "basho146 = pd.read_csv(f'output/{year14}11_rikishi_status.csv', index_col=0)\n",
    "basho151 = pd.read_csv(f'output/{year15}01_rikishi_status.csv', index_col=0)\n",
    "basho152 = pd.read_csv(f'output/{year15}03_rikishi_status.csv', index_col=0)\n",
    "basho153 = pd.read_csv(f'output/{year15}05_rikishi_status.csv', index_col=0)\n",
    "basho154 = pd.read_csv(f'output/{year15}07_rikishi_status.csv', index_col=0)\n",
    "basho155 = pd.read_csv(f'output/{year15}09_rikishi_status.csv', index_col=0)\n",
    "basho156 = pd.read_csv(f'output/{year15}11_rikishi_status.csv', index_col=0)\n",
    "basho161 = pd.read_csv(f'output/{year16}01_rikishi_status.csv', index_col=0)\n",
    "basho162 = pd.read_csv(f'output/{year16}03_rikishi_status.csv', index_col=0)\n",
    "basho163 = pd.read_csv(f'output/{year16}05_rikishi_status.csv', index_col=0)\n",
    "basho164 = pd.read_csv(f'output/{year16}07_rikishi_status.csv', index_col=0)\n",
    "basho165 = pd.read_csv(f'output/{year16}09_rikishi_status.csv', index_col=0)\n",
    "basho166 = pd.read_csv(f'output/{year16}11_rikishi_status.csv', index_col=0)\n",
    "basho171 = pd.read_csv(f'output/{year17}01_rikishi_status.csv', index_col=0)\n",
    "basho172 = pd.read_csv(f'output/{year17}03_rikishi_status.csv', index_col=0)\n",
    "#basho173 = pd.read_csv(f'output/{year17}05_rikishi_status.csv', index_col=0)\n",
    "basho174 = pd.read_csv(f'output/{year17}07_rikishi_status.csv', index_col=0)\n",
    "basho175 = pd.read_csv(f'output/{year17}09_rikishi_status.csv', index_col=0)\n",
    "basho176 = pd.read_csv(f'output/{year17}11_rikishi_status.csv', index_col=0)\n",
    "basho181 = pd.read_csv(f'output/{year18}01_rikishi_status.csv', index_col=0)\n",
    "basho182 = pd.read_csv(f'output/{year18}03_rikishi_status.csv', index_col=0)\n",
    "basho183 = pd.read_csv(f'output/{year18}05_rikishi_status.csv', index_col=0)\n",
    "basho184 = pd.read_csv(f'output/{year18}07_rikishi_status.csv', index_col=0)\n",
    "basho185 = pd.read_csv(f'output/{year18}09_rikishi_status.csv', index_col=0)\n",
    "basho186 = pd.read_csv(f'output/{year18}11_rikishi_status.csv', index_col=0)"
   ]
  },
  {
   "cell_type": "code",
   "execution_count": null,
   "metadata": {},
   "outputs": [],
   "source": [
    "basho = pd.Panel(data={'basho11': basho11, 'basho12': basho12, 'basho13': basho13, 'basho14': basho14,\n",
    "                       'basho21': basho21, 'basho22': basho22, 'basho23': basho23, 'basho24': basho24, 'basho25': basho25, 'basho26': basho26,\n",
    "                       'basho31': basho31, 'basho32': basho32, 'basho33': basho33, 'basho34': basho34, 'basho35': basho35, 'basho36': basho36,\n",
    "                       'basho41': basho41, 'basho42': basho42, 'basho43': basho43, 'basho44': basho44, 'basho45': basho45, 'basho46': basho46,\n",
    "                       'basho51': basho51, 'basho52': basho52, 'basho53': basho53, 'basho54': basho54, 'basho55': basho55, 'basho56': basho56,\n",
    "                       'basho61': basho61, 'basho62': basho62, 'basho63': basho63, 'basho64': basho64, 'basho65': basho65, 'basho66': basho66,\n",
    "                       'basho71': basho71, 'basho72': basho72, 'basho73': basho73, 'basho74': basho74, 'basho75': basho75, 'basho76': basho76,\n",
    "                       'basho81': basho81, 'basho84': basho84, 'basho85': basho85, 'basho86': basho86,\n",
    "                       'basho91': basho91, 'basho92': basho92, 'basho93': basho93, 'basho94': basho94, 'basho95': basho95, 'basho96': basho96,\n",
    "                       'basho101': basho101, 'basho102': basho102, 'basho103': basho103, 'basho104': basho104, 'basho105': basho105, 'basho106': basho106,\n",
    "                       'basho111': basho111, 'basho112': basho112, 'basho113': basho113, 'basho114': basho114, 'basho115': basho115, 'basho116': basho116,\n",
    "                       'basho121': basho121, 'basho122': basho122, 'basho123': basho123, 'basho124': basho124, 'basho125': basho125, 'basho126': basho126,\n",
    "                       'basho131': basho131, 'basho132': basho132, 'basho133': basho133, 'basho134': basho134, 'basho135': basho135, 'basho136': basho136,\n",
    "                       'basho141': basho141, 'basho142': basho142, 'basho143': basho143, 'basho144': basho144, 'basho145': basho145, 'basho146': basho146,\n",
    "                       'basho151': basho151, 'basho152': basho152, 'basho153': basho153, 'basho154': basho154, 'basho155': basho155, 'basho156': basho156,\n",
    "                       'basho161': basho161, 'basho162': basho162, 'basho163': basho163, 'basho164': basho164, 'basho165': basho165, 'basho166': basho166,\n",
    "                       'basho171': basho171, 'basho172': basho172, 'basho174': basho174, 'basho175': basho175, 'basho176': basho176,\n",
    "                       'basho181': basho181, 'basho182': basho182, 'basho183': basho183, 'basho184': basho184, 'basho185': basho185, 'basho186': basho186\n",
    "                      })"
   ]
  },
  {
   "cell_type": "markdown",
   "metadata": {},
   "source": [
    "# 勝ち星の数"
   ]
  },
  {
   "cell_type": "code",
   "execution_count": null,
   "metadata": {},
   "outputs": [],
   "source": [
    "wins = basho.iloc[0]['n_win']\n",
    "for i in range(1, basho.shape[0]):\n",
    "    wins = pd.concat([wins, basho.iloc[i]['n_win']], axis=1)"
   ]
  },
  {
   "cell_type": "code",
   "execution_count": null,
   "metadata": {},
   "outputs": [],
   "source": [
    "wins.T.plot(kind='box', figsize=(120, 10), title=f'{years}年')\n",
    "plt.savefig(f'output/{years}_wins_box.png')"
   ]
  },
  {
   "cell_type": "code",
   "execution_count": null,
   "metadata": {},
   "outputs": [],
   "source": [
    "wins.T.plot(kind='line', style=['o-']*len(wins), figsize=(120, 50), title=f'{years}年')\n",
    "plt.savefig(f'output/{years}_wins_line.png')"
   ]
  },
  {
   "cell_type": "markdown",
   "metadata": {},
   "source": [
    "# bt_modelのabilityの順位"
   ]
  },
  {
   "cell_type": "code",
   "execution_count": null,
   "metadata": {},
   "outputs": [],
   "source": [
    "rank = basho.iloc[0]['rank']\n",
    "for i in range(1, basho.shape[0]):\n",
    "    rank = pd.concat([rank, basho.iloc[i]['rank']], axis=1)"
   ]
  },
  {
   "cell_type": "code",
   "execution_count": null,
   "metadata": {},
   "outputs": [],
   "source": [
    "rank.T.plot(kind='box', figsize=(120, 10), title=f'{years}年')\n",
    "plt.savefig(f'output/{years}_rank_box.png')"
   ]
  },
  {
   "cell_type": "code",
   "execution_count": null,
   "metadata": {},
   "outputs": [],
   "source": [
    "rank.T.plot(kind='line', style=['o-']*len(rank), figsize=(120, 50), title=f'{years}年')\n",
    "plt.savefig(f'output/{years}_rank_line.png')"
   ]
  },
  {
   "cell_type": "markdown",
   "metadata": {},
   "source": [
    "# bt_modelのabilityの数値"
   ]
  },
  {
   "cell_type": "code",
   "execution_count": null,
   "metadata": {},
   "outputs": [],
   "source": [
    "ability = basho.iloc[0]['bt_ability']\n",
    "for i in range(1, basho.shape[0]):\n",
    "    ability = pd.concat([ability, basho.iloc[i]['bt_ability']], axis=1)"
   ]
  },
  {
   "cell_type": "code",
   "execution_count": null,
   "metadata": {},
   "outputs": [],
   "source": [
    "ability.T.plot(kind='box', figsize=(120, 10), title=f'{years}年')\n",
    "plt.savefig(f'output/{years}_ability_box.png')"
   ]
  },
  {
   "cell_type": "code",
   "execution_count": null,
   "metadata": {},
   "outputs": [],
   "source": [
    "ability.T.plot(kind='line', style=['o-']*len(ability), figsize=(120, 50), title=f'{years}年')\n",
    "plt.savefig(f'output/{years}_ability_line.png')"
   ]
  },
  {
   "cell_type": "code",
   "execution_count": null,
   "metadata": {},
   "outputs": [],
   "source": []
  }
 ],
 "metadata": {
  "kernelspec": {
   "display_name": "Python 3",
   "language": "python",
   "name": "python3"
  },
  "language_info": {
   "codemirror_mode": {
    "name": "ipython",
    "version": 3
   },
   "file_extension": ".py",
   "mimetype": "text/x-python",
   "name": "python",
   "nbconvert_exporter": "python",
   "pygments_lexer": "ipython3",
   "version": "3.6.4"
  }
 },
 "nbformat": 4,
 "nbformat_minor": 2
}
