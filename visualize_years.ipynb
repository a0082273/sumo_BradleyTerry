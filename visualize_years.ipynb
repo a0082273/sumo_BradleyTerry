{
 "cells": [
  {
   "cell_type": "code",
   "execution_count": null,
   "metadata": {},
   "outputs": [],
   "source": [
    "year_list = []\n",
    "for i in range(1, 19):\n",
    "    if i < 10:\n",
    "        year_list.append('200'+str(i))\n",
    "    else:\n",
    "        year_list.append('20'+str(i))\n",
    "period = year_list[0]+'-'+year_list[-1]"
   ]
  },
  {
   "cell_type": "code",
   "execution_count": null,
   "metadata": {},
   "outputs": [],
   "source": [
    "basho_list = []\n",
    "for year in year_list:\n",
    "    if year == '2002': months = ['01', '03', '07', '09', '11']\n",
    "    elif year == '2011': months = ['01', '07', '09', '11']\n",
    "    elif year == '2018': months = ['01', '03', '05', '07']\n",
    "    else: months = ['01', '03', '05', '07', '09', '11']\n",
    "    for month in months:\n",
    "        basho_list.append(pd.read_csv(f'output/{year}{month}_rikishi_status.csv', index_col=0))"
   ]
  },
  {
   "cell_type": "code",
   "execution_count": null,
   "metadata": {
    "code_folding": []
   },
   "outputs": [],
   "source": [
    "wins = basho_list[0]['n_win']\n",
    "for i in range(1, len(basho_list)):\n",
    "    wins = pd.concat([wins, basho_list[i]['n_win']], axis=1)"
   ]
  },
  {
   "cell_type": "code",
   "execution_count": null,
   "metadata": {},
   "outputs": [],
   "source": [
    "rank = basho_list[0]['rank']\n",
    "for i in range(1, len(basho_list)):\n",
    "    rank = pd.concat([rank, basho_list[i]['rank']], axis=1)"
   ]
  },
  {
   "cell_type": "code",
   "execution_count": null,
   "metadata": {},
   "outputs": [],
   "source": [
    "ability = basho_list[0]['bt_ability']\n",
    "for i in range(1, len(basho_list)):\n",
    "    ability = pd.concat([ability, basho_list[i]['bt_ability']], axis=1)"
   ]
  },
  {
   "cell_type": "markdown",
   "metadata": {},
   "source": [
    "# 主要力士の可視化"
   ]
  },
  {
   "cell_type": "markdown",
   "metadata": {},
   "source": [
    "# 朝青龍"
   ]
  },
  {
   "cell_type": "code",
   "execution_count": null,
   "metadata": {},
   "outputs": [],
   "source": [
    "rank.T['朝青龍'].values"
   ]
  },
  {
   "cell_type": "code",
   "execution_count": null,
   "metadata": {},
   "outputs": [],
   "source": [
    "len(rank.T['朝青龍'].values)"
   ]
  },
  {
   "cell_type": "code",
   "execution_count": null,
   "metadata": {},
   "outputs": [],
   "source": [
    "rank.T['朝青龍'].plot(kind='line', style=['o-']*len(rank), figsize=(12, 5), title=f'{period}年 朝青龍')\n",
    "plt.savefig(f'output/{period}_rank_asashoryu')"
   ]
  },
  {
   "cell_type": "code",
   "execution_count": null,
   "metadata": {},
   "outputs": [],
   "source": [
    "wins.T['朝青龍'].plot(kind='line', style=['o-']*len(wins), figsize=(12, 5), title=f'{period}年 朝青龍')\n",
    "plt.savefig(f'output/{period}_wins_asashoryu')"
   ]
  },
  {
   "cell_type": "markdown",
   "metadata": {},
   "source": [
    "# 白鵬"
   ]
  },
  {
   "cell_type": "code",
   "execution_count": null,
   "metadata": {},
   "outputs": [],
   "source": [
    "rank.T['白鵬'].values"
   ]
  },
  {
   "cell_type": "code",
   "execution_count": null,
   "metadata": {},
   "outputs": [],
   "source": [
    "rank.T['白鵬'].plot(kind='line', style=['o-']*len(rank), figsize=(12, 5), title=f'{period}年 白鵬')\n",
    "plt.savefig(f'output/{period}_rank_hakuho')"
   ]
  },
  {
   "cell_type": "code",
   "execution_count": null,
   "metadata": {},
   "outputs": [],
   "source": [
    "wins.T['白鵬'].plot(kind='line', style=['o-']*len(wins), figsize=(12, 5), title=f'{period}年 白鵬')\n",
    "plt.savefig(f'output/{period}_wins_hakuho')"
   ]
  },
  {
   "cell_type": "markdown",
   "metadata": {},
   "source": [
    "# 日馬富士"
   ]
  },
  {
   "cell_type": "code",
   "execution_count": null,
   "metadata": {},
   "outputs": [],
   "source": [
    "rank.T['日馬富士'].values"
   ]
  },
  {
   "cell_type": "code",
   "execution_count": null,
   "metadata": {},
   "outputs": [],
   "source": [
    "rank.T['日馬富士'].plot(kind='line', style=['o-']*len(rank), figsize=(12, 5), title=f'{period}年 日馬富士')\n",
    "plt.savefig(f'output/{period}_rank_harumahuji')"
   ]
  },
  {
   "cell_type": "code",
   "execution_count": null,
   "metadata": {},
   "outputs": [],
   "source": [
    "wins.T['日馬富士'].plot(kind='line', style=['o-']*len(wins), figsize=(12, 5), title=f'{period}年 日馬富士')\n",
    "plt.savefig(f'output/{period}_wins_harumahuji')"
   ]
  },
  {
   "cell_type": "markdown",
   "metadata": {},
   "source": [
    "# 鶴竜"
   ]
  },
  {
   "cell_type": "code",
   "execution_count": null,
   "metadata": {},
   "outputs": [],
   "source": [
    "rank.T['鶴竜'].values"
   ]
  },
  {
   "cell_type": "code",
   "execution_count": null,
   "metadata": {},
   "outputs": [],
   "source": [
    "rank.T['鶴竜'].plot(kind='line', style=['o-']*len(rank), figsize=(12, 5), title=f'{period}年 鶴竜')\n",
    "plt.savefig(f'output/{period}_rank_kakuryu')"
   ]
  },
  {
   "cell_type": "code",
   "execution_count": null,
   "metadata": {},
   "outputs": [],
   "source": [
    "wins.T['鶴竜'].plot(kind='line', style=['o-']*len(wins), figsize=(12, 5), title=f'{period}年 鶴竜')\n",
    "plt.savefig(f'output/{period}_wins_kakuryu')"
   ]
  },
  {
   "cell_type": "markdown",
   "metadata": {},
   "source": [
    "# 稀勢の里"
   ]
  },
  {
   "cell_type": "code",
   "execution_count": null,
   "metadata": {},
   "outputs": [],
   "source": [
    "rank.T['稀勢の里'].values"
   ]
  },
  {
   "cell_type": "code",
   "execution_count": null,
   "metadata": {},
   "outputs": [],
   "source": [
    "rank.T['稀勢の里'].plot(kind='line', style=['o-']*len(rank), figsize=(12, 5), title=f'{period}年 稀勢の里')\n",
    "plt.savefig(f'output/{period}_rank_kisenosato')"
   ]
  },
  {
   "cell_type": "code",
   "execution_count": null,
   "metadata": {},
   "outputs": [],
   "source": [
    "wins.T['稀勢の里'].plot(kind='line', style=['o-']*len(wins), figsize=(12, 5), title=f'{period}年 稀勢の里')\n",
    "plt.savefig(f'output/{period}_wins_kisenosato')"
   ]
  },
  {
   "cell_type": "markdown",
   "metadata": {},
   "source": [
    "# 2001年以降の横綱"
   ]
  },
  {
   "cell_type": "code",
   "execution_count": null,
   "metadata": {},
   "outputs": [],
   "source": [
    "rank_heisei = pd.concat([rank.T['朝青龍'], rank.T['白鵬'], rank.T['日馬富士'], rank.T['鶴竜'], rank.T['稀勢の里']], axis=1)\n",
    "wins_heisei = pd.concat([wins.T['朝青龍'], wins.T['白鵬'], wins.T['日馬富士'], wins.T['鶴竜'], wins.T['稀勢の里']], axis=1)"
   ]
  },
  {
   "cell_type": "code",
   "execution_count": null,
   "metadata": {},
   "outputs": [],
   "source": [
    "#rank_heisei.plot(kind='line', style=['x-']*len(rank), figsize=(12, 5), title=f'{period}年 2001年以降の横綱', legend=True)\n",
    "rank_heisei.plot(kind='line', style=['x-']*len(rank), figsize=(15, 6), legend=True)\n",
    "plt.savefig(f'output/{period}_rank_heisei')"
   ]
  },
  {
   "cell_type": "code",
   "execution_count": null,
   "metadata": {},
   "outputs": [],
   "source": [
    "#rank_heisei.plot(kind='box', figsize=(12, 5), title=f'{period}年 2001年以降の横綱')\n",
    "rank_heisei.plot(kind='box', figsize=(15, 6))\n",
    "plt.savefig(f'output/{period}_rank_box_heissei')"
   ]
  },
  {
   "cell_type": "code",
   "execution_count": null,
   "metadata": {},
   "outputs": [],
   "source": [
    "wins_heisei.plot(kind='line', style=['x-']*len(wins), figsize=(12, 5), title=f'{period}年 2001年以降の横綱', legend=True)\n",
    "plt.savefig(f'output/{period}_wins_heisei')"
   ]
  },
  {
   "cell_type": "code",
   "execution_count": null,
   "metadata": {},
   "outputs": [],
   "source": [
    "#wins_heisei.plot(kind='box', figsize=(12, 5), title=f'{period}年 2001年以降の横綱')\n",
    "wins_heisei.plot(kind='box', figsize=(15, 6))\n",
    "plt.savefig(f'output/{period}_wins_box_heissei')"
   ]
  },
  {
   "cell_type": "markdown",
   "metadata": {},
   "source": [
    "# 御嶽海"
   ]
  },
  {
   "cell_type": "code",
   "execution_count": null,
   "metadata": {},
   "outputs": [],
   "source": [
    "rank.T['御嶽海'].values"
   ]
  },
  {
   "cell_type": "code",
   "execution_count": null,
   "metadata": {},
   "outputs": [],
   "source": [
    "rank.T['御嶽海'].plot(kind='line', style=['o-']*len(rank), figsize=(12, 5), title=f'{period}年 御嶽海')\n",
    "plt.savefig(f'output/{period}_rank_mitakeumi')"
   ]
  },
  {
   "cell_type": "code",
   "execution_count": null,
   "metadata": {},
   "outputs": [],
   "source": [
    "wins.T['御嶽海'].plot(kind='line', style=['o-']*len(wins), figsize=(12, 5), title=f'{period}年 御嶽海')\n",
    "plt.savefig(f'output/{period}_wins_mitakeumi')"
   ]
  },
  {
   "cell_type": "markdown",
   "metadata": {},
   "source": [
    "# 御嶽海と横綱"
   ]
  },
  {
   "cell_type": "code",
   "execution_count": null,
   "metadata": {},
   "outputs": [],
   "source": [
    "len(rank.T['御嶽海'].dropna())"
   ]
  },
  {
   "cell_type": "code",
   "execution_count": null,
   "metadata": {},
   "outputs": [],
   "source": [
    "rank_mitakeumi_yokoduna = pd.concat([rank.T['朝青龍'].dropna()[:17], rank.T['白鵬'].dropna()[:17], rank.T['日馬富士'].dropna()[:17], rank.T['鶴竜'].dropna()[:17], rank.T['稀勢の里'].dropna()[:17], rank.T['御嶽海'].dropna()[:17]], axis=1)\n",
    "wins_mitakeumi_yokoduna = pd.concat([wins.T['朝青龍'].dropna()[:17], wins.T['白鵬'].dropna()[:17], wins.T['日馬富士'].dropna()[:17], wins.T['鶴竜'].dropna()[:17], wins.T['稀勢の里'].dropna()[:17], wins.T['御嶽海'].dropna()[:17]], axis=1)"
   ]
  },
  {
   "cell_type": "code",
   "execution_count": null,
   "metadata": {},
   "outputs": [],
   "source": [
    "#rank_mitakeumi_yokoduna.plot(kind='line', style=['x-']*len(rank), figsize=(12, 5), title='新入幕から17場所目までの成績 御嶽海と2001年以降の横綱', legend=True)\n",
    "rank_mitakeumi_yokoduna.plot(kind='line', style=['x-']*len(rank), figsize=(15, 6), legend=True)\n",
    "plt.savefig(f'output/{period}_rank_mitakeumi_yokoduna')"
   ]
  },
  {
   "cell_type": "code",
   "execution_count": null,
   "metadata": {},
   "outputs": [],
   "source": [
    "#rank_mitakeumi_yokoduna.plot(kind='box', figsize=(12, 5), title='新入幕から17場所目までの成績 御嶽海と2001年以降の横綱')\n",
    "rank_mitakeumi_yokoduna.plot(kind='box', figsize=(15, 6))\n",
    "plt.savefig(f'output/{period}_rank_box_mitakeumi_yokoduna')"
   ]
  },
  {
   "cell_type": "code",
   "execution_count": null,
   "metadata": {},
   "outputs": [],
   "source": [
    "#wins_mitakeumi_yokoduna.plot(kind='line', style=['x-']*len(wins), figsize=(12, 5), title='新入幕から17場所目までの成績 御嶽海と2001年以降の横綱', legend=True)\n",
    "wins_mitakeumi_yokoduna.plot(kind='line', style=['x-']*len(wins), figsize=(15, 6), legend=True)\n",
    "plt.savefig(f'output/{period}_wins_mitakeumi_yokoduna')"
   ]
  },
  {
   "cell_type": "code",
   "execution_count": null,
   "metadata": {},
   "outputs": [],
   "source": [
    "#wins_mitakeumi_yokoduna.plot(kind='box', figsize=(12, 5), title='新入幕から17場所目までの成績 御嶽海と2001年以降の横綱')\n",
    "wins_mitakeumi_yokoduna.plot(kind='box', figsize=(15, 6))\n",
    "plt.savefig(f'output/{period}_wins_box_mitakeumi_yokoduna')"
   ]
  },
  {
   "cell_type": "markdown",
   "metadata": {},
   "source": [
    "# 遠藤"
   ]
  },
  {
   "cell_type": "code",
   "execution_count": null,
   "metadata": {},
   "outputs": [],
   "source": [
    "rank.T['遠藤'].values"
   ]
  },
  {
   "cell_type": "code",
   "execution_count": null,
   "metadata": {},
   "outputs": [],
   "source": [
    "rank.T['遠藤'].plot(kind='line', style=['o-']*len(rank), figsize=(12, 5), title=f'{period}年 遠藤')\n",
    "plt.savefig(f'output/{period}_rank_endo')"
   ]
  },
  {
   "cell_type": "code",
   "execution_count": null,
   "metadata": {},
   "outputs": [],
   "source": [
    "wins.T['遠藤'].plot(kind='line', style=['o-']*len(wins), figsize=(12, 5), title=f'{period}年 遠藤')\n",
    "plt.savefig(f'output/{period}_wins_endo')"
   ]
  },
  {
   "cell_type": "markdown",
   "metadata": {},
   "source": [
    "# 平成28年7月場所の三役"
   ]
  },
  {
   "cell_type": "code",
   "execution_count": null,
   "metadata": {},
   "outputs": [],
   "source": [
    "rank_201807sanyaku = pd.concat([rank.T['鶴竜'], rank.T['白鵬'], rank.T['稀勢の里'], rank.T['豪栄道'], rank.T['高安'], rank.T['栃ノ心'], rank.T['逸ノ城'], rank.T['御嶽海'], rank.T['玉鷲'], rank.T['松鳳山']], axis=1)\n",
    "wins_201807sanyaku = pd.concat([wins.T['鶴竜'], wins.T['白鵬'], wins.T['稀勢の里'], wins.T['豪栄道'], wins.T['高安'], wins.T['栃ノ心'], wins.T['逸ノ城'], wins.T['御嶽海'], wins.T['玉鷲'], wins.T['松鳳山']], axis=1)"
   ]
  },
  {
   "cell_type": "code",
   "execution_count": null,
   "metadata": {},
   "outputs": [],
   "source": [
    "rank_201807sanyaku.plot(kind='line', style=['x-']*len(rank), figsize=(20, 8), title=f'{period}年 2018年7月場所の三役', legend=True)\n",
    "plt.savefig(f'output/{period}_rank_201807sanyaku')"
   ]
  },
  {
   "cell_type": "code",
   "execution_count": null,
   "metadata": {},
   "outputs": [],
   "source": [
    "rank_201807sanyaku.plot(kind='box', figsize=(15, 6), title=f'{period}年 2018年7月場所の三役以上')\n",
    "plt.savefig(f'output/{period}_rank_box_heissei')"
   ]
  },
  {
   "cell_type": "code",
   "execution_count": null,
   "metadata": {},
   "outputs": [],
   "source": [
    "wins_201807sanyaku.plot(kind='line', style=['x-']*len(wins), figsize=(20, 8), title=f'{period}年 2018年7月場所の三役', legend=True)\n",
    "plt.savefig(f'output/{period}_wins_201807sanyaku')"
   ]
  },
  {
   "cell_type": "code",
   "execution_count": null,
   "metadata": {},
   "outputs": [],
   "source": [
    "wins_201807sanyaku.plot(kind='box', figsize=(15, 6), title=f'{period}年 2018年7月場所の三役')\n",
    "plt.savefig(f'output/{period}_wins_box_heissei')"
   ]
  },
  {
   "cell_type": "code",
   "execution_count": null,
   "metadata": {},
   "outputs": [],
   "source": [
    "rank_201807sanyaku17 = pd.concat([rank.T['鶴竜'].dropna()[:17], rank.T['白鵬'].dropna()[:17], rank.T['稀勢の里'].dropna()[:17], rank.T['豪栄道'].dropna()[:17], rank.T['高安'].dropna()[:17], rank.T['栃ノ心'].dropna()[:17], rank.T['逸ノ城'].dropna()[:17], rank.T['御嶽海'].dropna()[:17], rank.T['玉鷲'].dropna()[:17], rank.T['松鳳山'].dropna()[:17]], axis=1)\n",
    "wins_201807sanyaku17 = pd.concat([wins.T['鶴竜'].dropna()[:17], wins.T['白鵬'].dropna()[:17], wins.T['稀勢の里'].dropna()[:17], wins.T['豪栄道'].dropna()[:17], wins.T['高安'].dropna()[:17], wins.T['栃ノ心'].dropna()[:17], wins.T['逸ノ城'].dropna()[:17], wins.T['御嶽海'].dropna()[:17], wins.T['玉鷲'].dropna()[:17], wins.T['松鳳山'].dropna()[:17]], axis=1)"
   ]
  },
  {
   "cell_type": "code",
   "execution_count": null,
   "metadata": {},
   "outputs": [],
   "source": [
    "#rank_201807sanyaku17.plot(kind='line', style=['x-']*len(rank), figsize=(20, 8), title='新入幕から17場所目までの成績 2018年7月場所の三役', legend=True)\n",
    "rank_201807sanyaku17.plot(kind='line', style=['x-']*len(rank), figsize=(15, 6), legend=True)\n",
    "plt.savefig(f'output/{period}_rank_201807sanyaku17')"
   ]
  },
  {
   "cell_type": "code",
   "execution_count": null,
   "metadata": {},
   "outputs": [],
   "source": [
    "#rank_201807sanyaku17.plot(kind='box', figsize=(15, 6), title='新入幕から17場所目までの成績 2018年7月場所の三役')\n",
    "rank_201807sanyaku17.plot(kind='box', figsize=(15, 6))\n",
    "plt.savefig(f'output/{period}_rank_box_201807sanyaku17')"
   ]
  },
  {
   "cell_type": "code",
   "execution_count": null,
   "metadata": {},
   "outputs": [],
   "source": [
    "wins_201807sanyaku17.plot(kind='line', style=['x-']*len(wins), figsize=(20, 8), title='新入幕から17場所目までの成績 2018年7月場所の三役', legend=True)\n",
    "plt.savefig(f'output/{period}_wins_201807sanyaku17')"
   ]
  },
  {
   "cell_type": "code",
   "execution_count": null,
   "metadata": {},
   "outputs": [],
   "source": [
    "wins_201807sanyaku17.plot(kind='box', figsize=(15, 6), title='新入幕から17場所目までの成績 2018年7月場所の三役')\n",
    "plt.savefig(f'output/{period}_wins_box_201807sanyaku17')"
   ]
  },
  {
   "cell_type": "markdown",
   "metadata": {},
   "source": [
    "# 2001〜2018年で50場所以上出場した力士"
   ]
  },
  {
   "cell_type": "code",
   "execution_count": null,
   "metadata": {},
   "outputs": [],
   "source": [
    "n_basho = 50\n",
    "for i in range(len(basho_list)):\n",
    "    basho_list[i] = basho_list[i].loc[wins.T.count()[wins.T.count() > n_basho].index]"
   ]
  },
  {
   "cell_type": "code",
   "execution_count": null,
   "metadata": {
    "code_folding": []
   },
   "outputs": [],
   "source": [
    "wins = basho_list[0]['n_win']\n",
    "for i in range(1, len(basho_list)):\n",
    "    wins = pd.concat([wins, basho_list[i]['n_win']], axis=1)"
   ]
  },
  {
   "cell_type": "code",
   "execution_count": null,
   "metadata": {},
   "outputs": [],
   "source": [
    "rank = basho_list[0]['rank']\n",
    "for i in range(1, len(basho_list)):\n",
    "    rank = pd.concat([rank, basho_list[i]['rank']], axis=1)"
   ]
  },
  {
   "cell_type": "code",
   "execution_count": null,
   "metadata": {},
   "outputs": [],
   "source": [
    "ability = basho_list[0]['bt_ability']\n",
    "for i in range(1, len(basho_list)):\n",
    "    ability = pd.concat([ability, basho_list[i]['bt_ability']], axis=1)"
   ]
  },
  {
   "cell_type": "markdown",
   "metadata": {},
   "source": [
    "# 勝ち星の数"
   ]
  },
  {
   "cell_type": "code",
   "execution_count": null,
   "metadata": {},
   "outputs": [],
   "source": [
    "wins.T.plot(kind='box', figsize=(60, 10), title=f'{period}年')\n",
    "plt.savefig(f'output/{period}_wins_box{n_basho}')"
   ]
  },
  {
   "cell_type": "code",
   "execution_count": null,
   "metadata": {},
   "outputs": [],
   "source": [
    "wins.T.plot(kind='line', style=['o-']*len(wins), figsize=(60, 6), title=f'{period}年')\n",
    "plt.savefig(f'output/{period}_wins_line{n_basho}')"
   ]
  },
  {
   "cell_type": "markdown",
   "metadata": {},
   "source": [
    "# bt_modelのabilityの順位"
   ]
  },
  {
   "cell_type": "code",
   "execution_count": null,
   "metadata": {},
   "outputs": [],
   "source": [
    "rank.T.plot(kind='box', figsize=(60, 10), title=f'{period}年')\n",
    "plt.savefig(f'output/{period}_rank_box{n_basho}')"
   ]
  },
  {
   "cell_type": "code",
   "execution_count": null,
   "metadata": {},
   "outputs": [],
   "source": [
    "rank.T.plot(kind='line', style=['o-']*len(rank), figsize=(60, 6), title=f'{period}年')\n",
    "plt.savefig(f'output/{period}_rank_line{n_basho}')"
   ]
  },
  {
   "cell_type": "markdown",
   "metadata": {},
   "source": [
    "# bt_modelのabilityの数値"
   ]
  },
  {
   "cell_type": "code",
   "execution_count": null,
   "metadata": {},
   "outputs": [],
   "source": [
    "ability.T.plot(kind='box', figsize=(60, 10), title=f'{period}年')\n",
    "plt.savefig(f'output/{period}_ability_box{n_basho}')"
   ]
  },
  {
   "cell_type": "code",
   "execution_count": null,
   "metadata": {},
   "outputs": [],
   "source": [
    "ability.T.plot(kind='line', style=['o-']*len(ability), figsize=(60, 6), title=f'{period}年')\n",
    "plt.savefig(f'output/{period}_ability_line{n_basho}')"
   ]
  },
  {
   "cell_type": "code",
   "execution_count": null,
   "metadata": {},
   "outputs": [],
   "source": []
  }
 ],
 "metadata": {
  "kernelspec": {
   "display_name": "Python 3",
   "language": "python",
   "name": "python3"
  },
  "language_info": {
   "codemirror_mode": {
    "name": "ipython",
    "version": 3
   },
   "file_extension": ".py",
   "mimetype": "text/x-python",
   "name": "python",
   "nbconvert_exporter": "python",
   "pygments_lexer": "ipython3",
   "version": "3.6.4"
  }
 },
 "nbformat": 4,
 "nbformat_minor": 2
}
